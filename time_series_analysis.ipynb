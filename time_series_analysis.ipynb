{
 "cells": [
  {
   "cell_type": "markdown",
   "id": "cb5f6ed0-6a09-4ae2-b993-c8f8cb63bcd0",
   "metadata": {},
   "source": [
    "# Dataset Information"
   ]
  },
  {
   "cell_type": "markdown",
   "id": "99ec1027-c72d-46ba-81b9-4384896effae",
   "metadata": {},
   "source": [
    "[Data Link](https://archive.ics.uci.edu/ml/datasets/individual+household+electric+power+consumption)\n",
    "\n",
    "This archive contains 2075259 measurements gathered between December 2006 and November 2010 (47 months).\n",
    "\n",
    "**Notes:**\n",
    "\n",
    "  1. (globalactivepower*1000/60 - submetering1 - submetering2 - submetering3) represents the active energy consumed every minute (in watt hour) in the household by electrical equipment not measured in sub-meterings 1, 2 and 3.\n",
    "\n",
    "  2. The dataset contains some missing values in the measurements (nearly 1.25% of the rows). All calendar timestamps are present in the dataset but for some timestamps, the measurement values are missing: a missing value is represented by the absence of value between two consecutive semi-colon attribute separators. For instance, the dataset shows missing values on April 28, 2007.\n",
    "\n",
    "**Attribute Information:**\n",
    "\n",
    "  1. date: Date in format dd/mm/yyyy\n",
    "  2. time: time in format hh:mm:ss\n",
    "  3. globalactivepower: household global minute-averaged active power (in kilowatt)\n",
    "  4. globalreactivepower: household global minute-averaged reactive power (in kilowatt)\n",
    "  5. voltage: minute-averaged voltage (in volt)\n",
    "  6. global_intensity: household global minute-averaged current intensity (in ampere)\n",
    "  7. submetering1: energy sub-metering No. 1 (in watt-hour of active energy). It corresponds to the kitchen, containing mainly a dishwasher, an oven and a microwave (hot plates are not electric but gas powered).\n",
    "  8. submetering2: energy sub-metering No. 2 (in watt-hour of active energy). It corresponds to the laundry room, containing a washing-machine, a tumble-drier, a refrigerator and a light.\n",
    "  9. submetering3: energy sub-metering No. 3 (in watt-hour of active energy). It corresponds to an electric water-heater and an air-conditioner."
   ]
  },
  {
   "cell_type": "markdown",
   "id": "e0a1749b-e86a-4b48-95d4-37ee4c7c9d6a",
   "metadata": {},
   "source": [
    "# Data Inspection"
   ]
  },
  {
   "cell_type": "code",
   "execution_count": 1,
   "id": "2cd48ca6-976c-4554-bdfb-ba45afdc360d",
   "metadata": {},
   "outputs": [],
   "source": [
    "# import all necessary packages\n",
    "import numpy as np\n",
    "import pandas as pd\n",
    "import matplotlib.pyplot as plt\n",
    "from datetime import datetime as dt"
   ]
  },
  {
   "cell_type": "code",
   "execution_count": 2,
   "id": "540d7624-60be-4bca-9d5d-fa103ab0551f",
   "metadata": {},
   "outputs": [
    {
     "name": "stderr",
     "output_type": "stream",
     "text": [
      "C:\\Users\\PC\\AppData\\Local\\Temp\\ipykernel_17124\\4069853025.py:1: DtypeWarning: Columns (2,3,4,5,6,7) have mixed types. Specify dtype option on import or set low_memory=False.\n",
      "  df = pd.read_csv(\"household_power_consumption.txt\", delimiter= \";\")\n"
     ]
    }
   ],
   "source": [
    "# load the dataset\n",
    "df = pd.read_csv(\"household_power_consumption.txt\", delimiter= \";\")"
   ]
  },
  {
   "cell_type": "code",
   "execution_count": 3,
   "id": "b85ce398-1a24-4542-b6cb-93b50a043876",
   "metadata": {},
   "outputs": [
    {
     "data": {
      "text/html": [
       "<div>\n",
       "<style scoped>\n",
       "    .dataframe tbody tr th:only-of-type {\n",
       "        vertical-align: middle;\n",
       "    }\n",
       "\n",
       "    .dataframe tbody tr th {\n",
       "        vertical-align: top;\n",
       "    }\n",
       "\n",
       "    .dataframe thead th {\n",
       "        text-align: right;\n",
       "    }\n",
       "</style>\n",
       "<table border=\"1\" class=\"dataframe\">\n",
       "  <thead>\n",
       "    <tr style=\"text-align: right;\">\n",
       "      <th></th>\n",
       "      <th>Date</th>\n",
       "      <th>Time</th>\n",
       "      <th>Global_active_power</th>\n",
       "      <th>Global_reactive_power</th>\n",
       "      <th>Voltage</th>\n",
       "      <th>Global_intensity</th>\n",
       "      <th>Sub_metering_1</th>\n",
       "      <th>Sub_metering_2</th>\n",
       "      <th>Sub_metering_3</th>\n",
       "    </tr>\n",
       "  </thead>\n",
       "  <tbody>\n",
       "    <tr>\n",
       "      <th>0</th>\n",
       "      <td>16/12/2006</td>\n",
       "      <td>17:24:00</td>\n",
       "      <td>4.216</td>\n",
       "      <td>0.418</td>\n",
       "      <td>234.840</td>\n",
       "      <td>18.400</td>\n",
       "      <td>0.000</td>\n",
       "      <td>1.000</td>\n",
       "      <td>17.0</td>\n",
       "    </tr>\n",
       "    <tr>\n",
       "      <th>1</th>\n",
       "      <td>16/12/2006</td>\n",
       "      <td>17:25:00</td>\n",
       "      <td>5.360</td>\n",
       "      <td>0.436</td>\n",
       "      <td>233.630</td>\n",
       "      <td>23.000</td>\n",
       "      <td>0.000</td>\n",
       "      <td>1.000</td>\n",
       "      <td>16.0</td>\n",
       "    </tr>\n",
       "    <tr>\n",
       "      <th>2</th>\n",
       "      <td>16/12/2006</td>\n",
       "      <td>17:26:00</td>\n",
       "      <td>5.374</td>\n",
       "      <td>0.498</td>\n",
       "      <td>233.290</td>\n",
       "      <td>23.000</td>\n",
       "      <td>0.000</td>\n",
       "      <td>2.000</td>\n",
       "      <td>17.0</td>\n",
       "    </tr>\n",
       "    <tr>\n",
       "      <th>3</th>\n",
       "      <td>16/12/2006</td>\n",
       "      <td>17:27:00</td>\n",
       "      <td>5.388</td>\n",
       "      <td>0.502</td>\n",
       "      <td>233.740</td>\n",
       "      <td>23.000</td>\n",
       "      <td>0.000</td>\n",
       "      <td>1.000</td>\n",
       "      <td>17.0</td>\n",
       "    </tr>\n",
       "    <tr>\n",
       "      <th>4</th>\n",
       "      <td>16/12/2006</td>\n",
       "      <td>17:28:00</td>\n",
       "      <td>3.666</td>\n",
       "      <td>0.528</td>\n",
       "      <td>235.680</td>\n",
       "      <td>15.800</td>\n",
       "      <td>0.000</td>\n",
       "      <td>1.000</td>\n",
       "      <td>17.0</td>\n",
       "    </tr>\n",
       "  </tbody>\n",
       "</table>\n",
       "</div>"
      ],
      "text/plain": [
       "         Date      Time Global_active_power Global_reactive_power  Voltage  \\\n",
       "0  16/12/2006  17:24:00               4.216                 0.418  234.840   \n",
       "1  16/12/2006  17:25:00               5.360                 0.436  233.630   \n",
       "2  16/12/2006  17:26:00               5.374                 0.498  233.290   \n",
       "3  16/12/2006  17:27:00               5.388                 0.502  233.740   \n",
       "4  16/12/2006  17:28:00               3.666                 0.528  235.680   \n",
       "\n",
       "  Global_intensity Sub_metering_1 Sub_metering_2  Sub_metering_3  \n",
       "0           18.400          0.000          1.000            17.0  \n",
       "1           23.000          0.000          1.000            16.0  \n",
       "2           23.000          0.000          2.000            17.0  \n",
       "3           23.000          0.000          1.000            17.0  \n",
       "4           15.800          0.000          1.000            17.0  "
      ]
     },
     "execution_count": 3,
     "metadata": {},
     "output_type": "execute_result"
    }
   ],
   "source": [
    "# display the first 5 rows\n",
    "df.head()"
   ]
  },
  {
   "cell_type": "code",
   "execution_count": 4,
   "id": "dda3ac12-3c45-458b-92b7-5d43b4106765",
   "metadata": {},
   "outputs": [
    {
     "data": {
      "text/plain": [
       "(2075259, 9)"
      ]
     },
     "execution_count": 4,
     "metadata": {},
     "output_type": "execute_result"
    }
   ],
   "source": [
    "# display the number of rows and columns\n",
    "df.shape"
   ]
  },
  {
   "cell_type": "code",
   "execution_count": 5,
   "id": "95293c08-cdef-4dca-b0c9-dfdc7e815b2b",
   "metadata": {},
   "outputs": [
    {
     "data": {
      "text/plain": [
       "True"
      ]
     },
     "execution_count": 5,
     "metadata": {},
     "output_type": "execute_result"
    }
   ],
   "source": [
    "# check if there is any null values\n",
    "df.isna().values.any()"
   ]
  },
  {
   "cell_type": "code",
   "execution_count": 6,
   "id": "e25eba18-be58-4504-b685-fc2ef1a4b0e4",
   "metadata": {},
   "outputs": [
    {
     "data": {
      "text/plain": [
       "Date                         0\n",
       "Time                         0\n",
       "Global_active_power          0\n",
       "Global_reactive_power        0\n",
       "Voltage                      0\n",
       "Global_intensity             0\n",
       "Sub_metering_1               0\n",
       "Sub_metering_2               0\n",
       "Sub_metering_3           25979\n",
       "dtype: int64"
      ]
     },
     "execution_count": 6,
     "metadata": {},
     "output_type": "execute_result"
    }
   ],
   "source": [
    "# check for columns with the null values and the actual number of the values\n",
    "df.isna().sum()"
   ]
  },
  {
   "cell_type": "code",
   "execution_count": 7,
   "id": "8865eca7-47ba-449c-8961-ae025b520e41",
   "metadata": {},
   "outputs": [
    {
     "data": {
      "text/plain": [
       "0"
      ]
     },
     "execution_count": 7,
     "metadata": {},
     "output_type": "execute_result"
    }
   ],
   "source": [
    "# check if there is any duplicate rows in the dataset\n",
    "df.duplicated().sum()"
   ]
  },
  {
   "cell_type": "code",
   "execution_count": 8,
   "id": "77445374-d4d5-4b1e-95b1-ea80f51f5aed",
   "metadata": {},
   "outputs": [
    {
     "data": {
      "text/plain": [
       "Date                      object\n",
       "Time                      object\n",
       "Global_active_power       object\n",
       "Global_reactive_power     object\n",
       "Voltage                   object\n",
       "Global_intensity          object\n",
       "Sub_metering_1            object\n",
       "Sub_metering_2            object\n",
       "Sub_metering_3           float64\n",
       "dtype: object"
      ]
     },
     "execution_count": 8,
     "metadata": {},
     "output_type": "execute_result"
    }
   ],
   "source": [
    "# check for the datatype of each column\n",
    "df.dtypes"
   ]
  },
  {
   "cell_type": "code",
   "execution_count": 9,
   "id": "64f2a638-6be8-4d6c-a7b1-9fabed6596e2",
   "metadata": {},
   "outputs": [
    {
     "name": "stderr",
     "output_type": "stream",
     "text": [
      "C:\\Users\\PC\\AppData\\Local\\Temp\\ipykernel_17124\\2394721818.py:1: UserWarning: Parsing dates in %d/%m/%Y format when dayfirst=False (the default) was specified. Pass `dayfirst=True` or specify a format to silence this warning.\n",
      "  df['Date'] = pd.to_datetime(df['Date'])\n"
     ]
    }
   ],
   "source": [
    "# convert the `Date` column to datetime64 datatype \n",
    "df['Date'] = pd.to_datetime(df['Date'])"
   ]
  },
  {
   "cell_type": "code",
   "execution_count": 10,
   "id": "d995d457-90e4-44b7-9335-e6702a3ef993",
   "metadata": {},
   "outputs": [],
   "source": [
    "# df['Time'] = pd.to_datetime(df['Time'])"
   ]
  },
  {
   "cell_type": "code",
   "execution_count": 11,
   "id": "13375fa2-faef-4609-9ec1-7a7e18b1f9cd",
   "metadata": {},
   "outputs": [
    {
     "data": {
      "text/html": [
       "<div>\n",
       "<style scoped>\n",
       "    .dataframe tbody tr th:only-of-type {\n",
       "        vertical-align: middle;\n",
       "    }\n",
       "\n",
       "    .dataframe tbody tr th {\n",
       "        vertical-align: top;\n",
       "    }\n",
       "\n",
       "    .dataframe thead th {\n",
       "        text-align: right;\n",
       "    }\n",
       "</style>\n",
       "<table border=\"1\" class=\"dataframe\">\n",
       "  <thead>\n",
       "    <tr style=\"text-align: right;\">\n",
       "      <th></th>\n",
       "      <th>Date</th>\n",
       "      <th>Time</th>\n",
       "      <th>Global_active_power</th>\n",
       "      <th>Global_reactive_power</th>\n",
       "      <th>Voltage</th>\n",
       "      <th>Global_intensity</th>\n",
       "      <th>Sub_metering_1</th>\n",
       "      <th>Sub_metering_2</th>\n",
       "      <th>Sub_metering_3</th>\n",
       "    </tr>\n",
       "  </thead>\n",
       "  <tbody>\n",
       "    <tr>\n",
       "      <th>0</th>\n",
       "      <td>2006-12-16</td>\n",
       "      <td>17:24:00</td>\n",
       "      <td>4.216</td>\n",
       "      <td>0.418</td>\n",
       "      <td>234.840</td>\n",
       "      <td>18.400</td>\n",
       "      <td>0.000</td>\n",
       "      <td>1.000</td>\n",
       "      <td>17.0</td>\n",
       "    </tr>\n",
       "    <tr>\n",
       "      <th>1</th>\n",
       "      <td>2006-12-16</td>\n",
       "      <td>17:25:00</td>\n",
       "      <td>5.360</td>\n",
       "      <td>0.436</td>\n",
       "      <td>233.630</td>\n",
       "      <td>23.000</td>\n",
       "      <td>0.000</td>\n",
       "      <td>1.000</td>\n",
       "      <td>16.0</td>\n",
       "    </tr>\n",
       "    <tr>\n",
       "      <th>2</th>\n",
       "      <td>2006-12-16</td>\n",
       "      <td>17:26:00</td>\n",
       "      <td>5.374</td>\n",
       "      <td>0.498</td>\n",
       "      <td>233.290</td>\n",
       "      <td>23.000</td>\n",
       "      <td>0.000</td>\n",
       "      <td>2.000</td>\n",
       "      <td>17.0</td>\n",
       "    </tr>\n",
       "    <tr>\n",
       "      <th>3</th>\n",
       "      <td>2006-12-16</td>\n",
       "      <td>17:27:00</td>\n",
       "      <td>5.388</td>\n",
       "      <td>0.502</td>\n",
       "      <td>233.740</td>\n",
       "      <td>23.000</td>\n",
       "      <td>0.000</td>\n",
       "      <td>1.000</td>\n",
       "      <td>17.0</td>\n",
       "    </tr>\n",
       "    <tr>\n",
       "      <th>4</th>\n",
       "      <td>2006-12-16</td>\n",
       "      <td>17:28:00</td>\n",
       "      <td>3.666</td>\n",
       "      <td>0.528</td>\n",
       "      <td>235.680</td>\n",
       "      <td>15.800</td>\n",
       "      <td>0.000</td>\n",
       "      <td>1.000</td>\n",
       "      <td>17.0</td>\n",
       "    </tr>\n",
       "  </tbody>\n",
       "</table>\n",
       "</div>"
      ],
      "text/plain": [
       "        Date      Time Global_active_power Global_reactive_power  Voltage  \\\n",
       "0 2006-12-16  17:24:00               4.216                 0.418  234.840   \n",
       "1 2006-12-16  17:25:00               5.360                 0.436  233.630   \n",
       "2 2006-12-16  17:26:00               5.374                 0.498  233.290   \n",
       "3 2006-12-16  17:27:00               5.388                 0.502  233.740   \n",
       "4 2006-12-16  17:28:00               3.666                 0.528  235.680   \n",
       "\n",
       "  Global_intensity Sub_metering_1 Sub_metering_2  Sub_metering_3  \n",
       "0           18.400          0.000          1.000            17.0  \n",
       "1           23.000          0.000          1.000            16.0  \n",
       "2           23.000          0.000          2.000            17.0  \n",
       "3           23.000          0.000          1.000            17.0  \n",
       "4           15.800          0.000          1.000            17.0  "
      ]
     },
     "execution_count": 11,
     "metadata": {},
     "output_type": "execute_result"
    }
   ],
   "source": [
    "df.head()"
   ]
  },
  {
   "cell_type": "markdown",
   "id": "0bd464e8-272a-4c20-a029-df4297616cd5",
   "metadata": {},
   "source": [
    "# Data Cleaning and Preprocessing"
   ]
  },
  {
   "cell_type": "code",
   "execution_count": 12,
   "id": "84943991-05ae-4271-a2bd-f0ca46d0bb72",
   "metadata": {},
   "outputs": [],
   "source": [
    "# convert all the numeric columns to float datatype  \n",
    "numeric_columns = ['Global_active_power', 'Global_reactive_power', 'Voltage', 'Global_intensity', 'Sub_metering_1', 'Sub_metering_2']\n",
    "\n",
    "df[numeric_columns] = df[numeric_columns].apply(pd.to_numeric, errors= 'coerce')"
   ]
  },
  {
   "cell_type": "code",
   "execution_count": 13,
   "id": "94fba9d3-d605-41ac-aac5-44b74e383f75",
   "metadata": {},
   "outputs": [
    {
     "data": {
      "text/plain": [
       "Date                     datetime64[ns]\n",
       "Time                             object\n",
       "Global_active_power             float64\n",
       "Global_reactive_power           float64\n",
       "Voltage                         float64\n",
       "Global_intensity                float64\n",
       "Sub_metering_1                  float64\n",
       "Sub_metering_2                  float64\n",
       "Sub_metering_3                  float64\n",
       "dtype: object"
      ]
     },
     "execution_count": 13,
     "metadata": {},
     "output_type": "execute_result"
    }
   ],
   "source": [
    "# check for the datatype again to know if all the changes have been reflected\n",
    "df.dtypes"
   ]
  },
  {
   "cell_type": "code",
   "execution_count": 21,
   "id": "be903e0a-8949-47b8-81f5-09ade813d0b3",
   "metadata": {},
   "outputs": [],
   "source": [
    "# set the `Date` column as index\n",
    "df.set_index(\"Date\", inplace= True)"
   ]
  },
  {
   "cell_type": "code",
   "execution_count": 22,
   "id": "4e2f4ed5-2b3d-4170-a194-3926b775b715",
   "metadata": {},
   "outputs": [
    {
     "data": {
      "text/html": [
       "<div>\n",
       "<style scoped>\n",
       "    .dataframe tbody tr th:only-of-type {\n",
       "        vertical-align: middle;\n",
       "    }\n",
       "\n",
       "    .dataframe tbody tr th {\n",
       "        vertical-align: top;\n",
       "    }\n",
       "\n",
       "    .dataframe thead th {\n",
       "        text-align: right;\n",
       "    }\n",
       "</style>\n",
       "<table border=\"1\" class=\"dataframe\">\n",
       "  <thead>\n",
       "    <tr style=\"text-align: right;\">\n",
       "      <th></th>\n",
       "      <th>Time</th>\n",
       "      <th>Global_active_power</th>\n",
       "      <th>Global_reactive_power</th>\n",
       "      <th>Voltage</th>\n",
       "      <th>Global_intensity</th>\n",
       "      <th>Sub_metering_1</th>\n",
       "      <th>Sub_metering_2</th>\n",
       "      <th>Sub_metering_3</th>\n",
       "    </tr>\n",
       "    <tr>\n",
       "      <th>Date</th>\n",
       "      <th></th>\n",
       "      <th></th>\n",
       "      <th></th>\n",
       "      <th></th>\n",
       "      <th></th>\n",
       "      <th></th>\n",
       "      <th></th>\n",
       "      <th></th>\n",
       "    </tr>\n",
       "  </thead>\n",
       "  <tbody>\n",
       "    <tr>\n",
       "      <th>2006-12-16</th>\n",
       "      <td>17:24:00</td>\n",
       "      <td>4.216</td>\n",
       "      <td>0.418</td>\n",
       "      <td>234.84</td>\n",
       "      <td>18.4</td>\n",
       "      <td>0.0</td>\n",
       "      <td>1.0</td>\n",
       "      <td>17.0</td>\n",
       "    </tr>\n",
       "    <tr>\n",
       "      <th>2006-12-16</th>\n",
       "      <td>17:25:00</td>\n",
       "      <td>5.360</td>\n",
       "      <td>0.436</td>\n",
       "      <td>233.63</td>\n",
       "      <td>23.0</td>\n",
       "      <td>0.0</td>\n",
       "      <td>1.0</td>\n",
       "      <td>16.0</td>\n",
       "    </tr>\n",
       "    <tr>\n",
       "      <th>2006-12-16</th>\n",
       "      <td>17:26:00</td>\n",
       "      <td>5.374</td>\n",
       "      <td>0.498</td>\n",
       "      <td>233.29</td>\n",
       "      <td>23.0</td>\n",
       "      <td>0.0</td>\n",
       "      <td>2.0</td>\n",
       "      <td>17.0</td>\n",
       "    </tr>\n",
       "    <tr>\n",
       "      <th>2006-12-16</th>\n",
       "      <td>17:27:00</td>\n",
       "      <td>5.388</td>\n",
       "      <td>0.502</td>\n",
       "      <td>233.74</td>\n",
       "      <td>23.0</td>\n",
       "      <td>0.0</td>\n",
       "      <td>1.0</td>\n",
       "      <td>17.0</td>\n",
       "    </tr>\n",
       "    <tr>\n",
       "      <th>2006-12-16</th>\n",
       "      <td>17:28:00</td>\n",
       "      <td>3.666</td>\n",
       "      <td>0.528</td>\n",
       "      <td>235.68</td>\n",
       "      <td>15.8</td>\n",
       "      <td>0.0</td>\n",
       "      <td>1.0</td>\n",
       "      <td>17.0</td>\n",
       "    </tr>\n",
       "  </tbody>\n",
       "</table>\n",
       "</div>"
      ],
      "text/plain": [
       "                Time  Global_active_power  Global_reactive_power  Voltage  \\\n",
       "Date                                                                        \n",
       "2006-12-16  17:24:00                4.216                  0.418   234.84   \n",
       "2006-12-16  17:25:00                5.360                  0.436   233.63   \n",
       "2006-12-16  17:26:00                5.374                  0.498   233.29   \n",
       "2006-12-16  17:27:00                5.388                  0.502   233.74   \n",
       "2006-12-16  17:28:00                3.666                  0.528   235.68   \n",
       "\n",
       "            Global_intensity  Sub_metering_1  Sub_metering_2  Sub_metering_3  \n",
       "Date                                                                          \n",
       "2006-12-16              18.4             0.0             1.0            17.0  \n",
       "2006-12-16              23.0             0.0             1.0            16.0  \n",
       "2006-12-16              23.0             0.0             2.0            17.0  \n",
       "2006-12-16              23.0             0.0             1.0            17.0  \n",
       "2006-12-16              15.8             0.0             1.0            17.0  "
      ]
     },
     "execution_count": 22,
     "metadata": {},
     "output_type": "execute_result"
    }
   ],
   "source": [
    "# display the first five rows of the dataset\n",
    "df.head()"
   ]
  },
  {
   "cell_type": "code",
   "execution_count": 23,
   "id": "7f946724-6bdd-414d-bbd5-3bf3110c66e6",
   "metadata": {},
   "outputs": [
    {
     "data": {
      "text/plain": [
       "Time                         0\n",
       "Global_active_power      25979\n",
       "Global_reactive_power    25979\n",
       "Voltage                  25979\n",
       "Global_intensity         25979\n",
       "Sub_metering_1           25979\n",
       "Sub_metering_2           25979\n",
       "Sub_metering_3           25979\n",
       "dtype: int64"
      ]
     },
     "execution_count": 23,
     "metadata": {},
     "output_type": "execute_result"
    }
   ],
   "source": [
    "# check if there is any null values again after the dtype conversion\n",
    "df.isna().sum()"
   ]
  },
  {
   "cell_type": "code",
   "execution_count": 24,
   "id": "f380281d-92bc-46af-b124-37c8f8a8d75b",
   "metadata": {},
   "outputs": [
    {
     "name": "stderr",
     "output_type": "stream",
     "text": [
      "C:\\Users\\PC\\AppData\\Local\\Temp\\ipykernel_17124\\619184814.py:1: FutureWarning: DataFrame.interpolate with object dtype is deprecated and will raise in a future version. Call obj.infer_objects(copy=False) before interpolating instead.\n",
      "  df_clean = df.interpolate(method= 'linear', limit_direction= 'backward')\n"
     ]
    }
   ],
   "source": [
    "# fill the null values with backward interpolation\n",
    "df_clean = df.interpolate(method= 'linear', limit_direction= 'backward')"
   ]
  },
  {
   "cell_type": "code",
   "execution_count": 25,
   "id": "12760bb6-fb3b-4765-980d-ec4769cf2edd",
   "metadata": {},
   "outputs": [
    {
     "data": {
      "text/plain": [
       "Time                     0\n",
       "Global_active_power      0\n",
       "Global_reactive_power    0\n",
       "Voltage                  0\n",
       "Global_intensity         0\n",
       "Sub_metering_1           0\n",
       "Sub_metering_2           0\n",
       "Sub_metering_3           0\n",
       "dtype: int64"
      ]
     },
     "execution_count": 25,
     "metadata": {},
     "output_type": "execute_result"
    }
   ],
   "source": [
    "# check if there's still any null values\n",
    "df_clean.isna().sum()"
   ]
  },
  {
   "cell_type": "code",
   "execution_count": 26,
   "id": "ea363a6a-b049-4bda-8e4c-623c2733297d",
   "metadata": {},
   "outputs": [],
   "source": [
    "# drop the `Time` column\n",
    "df_clean = df_clean.drop('Time', axis= 1)"
   ]
  },
  {
   "cell_type": "code",
   "execution_count": 111,
   "id": "8e244f19-2ae5-4f0a-a765-3ee71117e71e",
   "metadata": {},
   "outputs": [
    {
     "data": {
      "text/html": [
       "<div>\n",
       "<style scoped>\n",
       "    .dataframe tbody tr th:only-of-type {\n",
       "        vertical-align: middle;\n",
       "    }\n",
       "\n",
       "    .dataframe tbody tr th {\n",
       "        vertical-align: top;\n",
       "    }\n",
       "\n",
       "    .dataframe thead th {\n",
       "        text-align: right;\n",
       "    }\n",
       "</style>\n",
       "<table border=\"1\" class=\"dataframe\">\n",
       "  <thead>\n",
       "    <tr style=\"text-align: right;\">\n",
       "      <th></th>\n",
       "      <th>Global_active_power</th>\n",
       "      <th>Global_reactive_power</th>\n",
       "      <th>Voltage</th>\n",
       "      <th>Global_intensity</th>\n",
       "      <th>Sub_metering_1</th>\n",
       "      <th>Sub_metering_2</th>\n",
       "      <th>Sub_metering_3</th>\n",
       "    </tr>\n",
       "  </thead>\n",
       "  <tbody>\n",
       "    <tr>\n",
       "      <th>Global_active_power</th>\n",
       "      <td>1.000000</td>\n",
       "      <td>0.245047</td>\n",
       "      <td>-0.395522</td>\n",
       "      <td>0.998887</td>\n",
       "      <td>0.483816</td>\n",
       "      <td>0.433892</td>\n",
       "      <td>0.639272</td>\n",
       "    </tr>\n",
       "    <tr>\n",
       "      <th>Global_reactive_power</th>\n",
       "      <td>0.245047</td>\n",
       "      <td>1.000000</td>\n",
       "      <td>-0.109030</td>\n",
       "      <td>0.264162</td>\n",
       "      <td>0.122743</td>\n",
       "      <td>0.139204</td>\n",
       "      <td>0.087743</td>\n",
       "    </tr>\n",
       "    <tr>\n",
       "      <th>Voltage</th>\n",
       "      <td>-0.395522</td>\n",
       "      <td>-0.109030</td>\n",
       "      <td>1.000000</td>\n",
       "      <td>-0.407198</td>\n",
       "      <td>-0.194100</td>\n",
       "      <td>-0.165348</td>\n",
       "      <td>-0.265510</td>\n",
       "    </tr>\n",
       "    <tr>\n",
       "      <th>Global_intensity</th>\n",
       "      <td>0.998887</td>\n",
       "      <td>0.264162</td>\n",
       "      <td>-0.407198</td>\n",
       "      <td>1.000000</td>\n",
       "      <td>0.488756</td>\n",
       "      <td>0.439713</td>\n",
       "      <td>0.627264</td>\n",
       "    </tr>\n",
       "    <tr>\n",
       "      <th>Sub_metering_1</th>\n",
       "      <td>0.483816</td>\n",
       "      <td>0.122743</td>\n",
       "      <td>-0.194100</td>\n",
       "      <td>0.488756</td>\n",
       "      <td>1.000000</td>\n",
       "      <td>0.055011</td>\n",
       "      <td>0.102704</td>\n",
       "    </tr>\n",
       "    <tr>\n",
       "      <th>Sub_metering_2</th>\n",
       "      <td>0.433892</td>\n",
       "      <td>0.139204</td>\n",
       "      <td>-0.165348</td>\n",
       "      <td>0.439713</td>\n",
       "      <td>0.055011</td>\n",
       "      <td>1.000000</td>\n",
       "      <td>0.080710</td>\n",
       "    </tr>\n",
       "    <tr>\n",
       "      <th>Sub_metering_3</th>\n",
       "      <td>0.639272</td>\n",
       "      <td>0.087743</td>\n",
       "      <td>-0.265510</td>\n",
       "      <td>0.627264</td>\n",
       "      <td>0.102704</td>\n",
       "      <td>0.080710</td>\n",
       "      <td>1.000000</td>\n",
       "    </tr>\n",
       "  </tbody>\n",
       "</table>\n",
       "</div>"
      ],
      "text/plain": [
       "                       Global_active_power  Global_reactive_power   Voltage  \\\n",
       "Global_active_power               1.000000               0.245047 -0.395522   \n",
       "Global_reactive_power             0.245047               1.000000 -0.109030   \n",
       "Voltage                          -0.395522              -0.109030  1.000000   \n",
       "Global_intensity                  0.998887               0.264162 -0.407198   \n",
       "Sub_metering_1                    0.483816               0.122743 -0.194100   \n",
       "Sub_metering_2                    0.433892               0.139204 -0.165348   \n",
       "Sub_metering_3                    0.639272               0.087743 -0.265510   \n",
       "\n",
       "                       Global_intensity  Sub_metering_1  Sub_metering_2  \\\n",
       "Global_active_power            0.998887        0.483816        0.433892   \n",
       "Global_reactive_power          0.264162        0.122743        0.139204   \n",
       "Voltage                       -0.407198       -0.194100       -0.165348   \n",
       "Global_intensity               1.000000        0.488756        0.439713   \n",
       "Sub_metering_1                 0.488756        1.000000        0.055011   \n",
       "Sub_metering_2                 0.439713        0.055011        1.000000   \n",
       "Sub_metering_3                 0.627264        0.102704        0.080710   \n",
       "\n",
       "                       Sub_metering_3  \n",
       "Global_active_power          0.639272  \n",
       "Global_reactive_power        0.087743  \n",
       "Voltage                     -0.265510  \n",
       "Global_intensity             0.627264  \n",
       "Sub_metering_1               0.102704  \n",
       "Sub_metering_2               0.080710  \n",
       "Sub_metering_3               1.000000  "
      ]
     },
     "execution_count": 111,
     "metadata": {},
     "output_type": "execute_result"
    }
   ],
   "source": [
    "# display the correlation between one column against another\n",
    "df_clean.corr()"
   ]
  },
  {
   "cell_type": "code",
   "execution_count": 27,
   "id": "36dcc6bc-2090-4e82-a0e7-15e75b824b3d",
   "metadata": {},
   "outputs": [],
   "source": [
    "# downsample the dataset on daily basis\n",
    "df_daily = df_clean.resample(\"D\").sum()"
   ]
  },
  {
   "cell_type": "code",
   "execution_count": 39,
   "id": "d50c0558-2ecf-4b4c-b598-aab505ed8540",
   "metadata": {},
   "outputs": [],
   "source": [
    "# reset the dataset index\n",
    "df_daily.reset_index(inplace= True)"
   ]
  },
  {
   "cell_type": "code",
   "execution_count": 40,
   "id": "c040c636-d4c8-4a60-9305-751bedc4483b",
   "metadata": {},
   "outputs": [
    {
     "data": {
      "text/plain": [
       "1442"
      ]
     },
     "execution_count": 40,
     "metadata": {},
     "output_type": "execute_result"
    }
   ],
   "source": [
    "# check for the number rows again after the downsampling\n",
    "df_daily.shape[0]"
   ]
  },
  {
   "cell_type": "code",
   "execution_count": 42,
   "id": "085eaad6-7fa3-4316-93c7-e3337ef0e86f",
   "metadata": {},
   "outputs": [],
   "source": [
    "# split the dataset into the training and the test sets\n",
    "train_ratio = df_daily.shape[0] - 300\n",
    "train_set = df_daily[:train_ratio] # x-300 where x is the number of samples\n",
    "test_set = df_daily[train_ratio:]  # last 300"
   ]
  },
  {
   "cell_type": "code",
   "execution_count": 43,
   "id": "3d764927-9c7c-4207-944c-d67cf5c13a66",
   "metadata": {},
   "outputs": [
    {
     "name": "stdout",
     "output_type": "stream",
     "text": [
      "Training set is 1142 samples\n",
      "Test set is 300 samples\n"
     ]
    }
   ],
   "source": [
    "# check for the training and the test sets number of rows\n",
    "print(f\"Training set is {train_set.shape[0]} samples\")\n",
    "print(f\"Test set is {test_set.shape[0]} samples\")"
   ]
  },
  {
   "cell_type": "markdown",
   "id": "021f4bb1-7263-4476-ab26-ceeb2cb63d68",
   "metadata": {},
   "source": [
    "# Model Training"
   ]
  },
  {
   "cell_type": "code",
   "execution_count": 120,
   "id": "55645a88-6040-4bd8-baf5-175b1703631f",
   "metadata": {},
   "outputs": [
    {
     "name": "stderr",
     "output_type": "stream",
     "text": [
      "18:41:04 - cmdstanpy - INFO - Chain [1] start processing\n",
      "18:41:05 - cmdstanpy - INFO - Chain [1] done processing\n"
     ]
    },
    {
     "data": {
      "text/html": [
       "<div>\n",
       "<style scoped>\n",
       "    .dataframe tbody tr th:only-of-type {\n",
       "        vertical-align: middle;\n",
       "    }\n",
       "\n",
       "    .dataframe tbody tr th {\n",
       "        vertical-align: top;\n",
       "    }\n",
       "\n",
       "    .dataframe thead th {\n",
       "        text-align: right;\n",
       "    }\n",
       "</style>\n",
       "<table border=\"1\" class=\"dataframe\">\n",
       "  <thead>\n",
       "    <tr style=\"text-align: right;\">\n",
       "      <th></th>\n",
       "      <th>ds</th>\n",
       "      <th>trend</th>\n",
       "      <th>yhat_lower</th>\n",
       "      <th>yhat_upper</th>\n",
       "      <th>trend_lower</th>\n",
       "      <th>trend_upper</th>\n",
       "      <th>additive_terms</th>\n",
       "      <th>additive_terms_lower</th>\n",
       "      <th>additive_terms_upper</th>\n",
       "      <th>weekly</th>\n",
       "      <th>weekly_lower</th>\n",
       "      <th>weekly_upper</th>\n",
       "      <th>yearly</th>\n",
       "      <th>yearly_lower</th>\n",
       "      <th>yearly_upper</th>\n",
       "      <th>multiplicative_terms</th>\n",
       "      <th>multiplicative_terms_lower</th>\n",
       "      <th>multiplicative_terms_upper</th>\n",
       "      <th>yhat</th>\n",
       "    </tr>\n",
       "  </thead>\n",
       "  <tbody>\n",
       "    <tr>\n",
       "      <th>0</th>\n",
       "      <td>2010-01-31</td>\n",
       "      <td>1528.394841</td>\n",
       "      <td>1894.705751</td>\n",
       "      <td>3030.178852</td>\n",
       "      <td>1528.394841</td>\n",
       "      <td>1528.394841</td>\n",
       "      <td>911.521718</td>\n",
       "      <td>911.521718</td>\n",
       "      <td>911.521718</td>\n",
       "      <td>217.316889</td>\n",
       "      <td>217.316889</td>\n",
       "      <td>217.316889</td>\n",
       "      <td>694.204829</td>\n",
       "      <td>694.204829</td>\n",
       "      <td>694.204829</td>\n",
       "      <td>0.0</td>\n",
       "      <td>0.0</td>\n",
       "      <td>0.0</td>\n",
       "      <td>2439.916559</td>\n",
       "    </tr>\n",
       "    <tr>\n",
       "      <th>1</th>\n",
       "      <td>2010-02-01</td>\n",
       "      <td>1528.341973</td>\n",
       "      <td>1493.934274</td>\n",
       "      <td>2615.114108</td>\n",
       "      <td>1528.341973</td>\n",
       "      <td>1528.341973</td>\n",
       "      <td>529.856456</td>\n",
       "      <td>529.856456</td>\n",
       "      <td>529.856456</td>\n",
       "      <td>-161.644515</td>\n",
       "      <td>-161.644515</td>\n",
       "      <td>-161.644515</td>\n",
       "      <td>691.500971</td>\n",
       "      <td>691.500971</td>\n",
       "      <td>691.500971</td>\n",
       "      <td>0.0</td>\n",
       "      <td>0.0</td>\n",
       "      <td>0.0</td>\n",
       "      <td>2058.198428</td>\n",
       "    </tr>\n",
       "    <tr>\n",
       "      <th>2</th>\n",
       "      <td>2010-02-02</td>\n",
       "      <td>1528.289104</td>\n",
       "      <td>1597.426049</td>\n",
       "      <td>2734.282315</td>\n",
       "      <td>1528.289104</td>\n",
       "      <td>1528.289104</td>\n",
       "      <td>662.486895</td>\n",
       "      <td>662.486895</td>\n",
       "      <td>662.486895</td>\n",
       "      <td>-21.921704</td>\n",
       "      <td>-21.921704</td>\n",
       "      <td>-21.921704</td>\n",
       "      <td>684.408599</td>\n",
       "      <td>684.408599</td>\n",
       "      <td>684.408599</td>\n",
       "      <td>0.0</td>\n",
       "      <td>0.0</td>\n",
       "      <td>0.0</td>\n",
       "      <td>2190.775999</td>\n",
       "    </tr>\n",
       "    <tr>\n",
       "      <th>3</th>\n",
       "      <td>2010-02-03</td>\n",
       "      <td>1528.236236</td>\n",
       "      <td>1642.035240</td>\n",
       "      <td>2746.777608</td>\n",
       "      <td>1528.236236</td>\n",
       "      <td>1528.236236</td>\n",
       "      <td>657.367287</td>\n",
       "      <td>657.367287</td>\n",
       "      <td>657.367287</td>\n",
       "      <td>-15.406064</td>\n",
       "      <td>-15.406064</td>\n",
       "      <td>-15.406064</td>\n",
       "      <td>672.773351</td>\n",
       "      <td>672.773351</td>\n",
       "      <td>672.773351</td>\n",
       "      <td>0.0</td>\n",
       "      <td>0.0</td>\n",
       "      <td>0.0</td>\n",
       "      <td>2185.603523</td>\n",
       "    </tr>\n",
       "    <tr>\n",
       "      <th>4</th>\n",
       "      <td>2010-02-04</td>\n",
       "      <td>1528.183367</td>\n",
       "      <td>1474.801197</td>\n",
       "      <td>2580.967397</td>\n",
       "      <td>1528.183367</td>\n",
       "      <td>1528.183367</td>\n",
       "      <td>476.632783</td>\n",
       "      <td>476.632783</td>\n",
       "      <td>476.632783</td>\n",
       "      <td>-179.902379</td>\n",
       "      <td>-179.902379</td>\n",
       "      <td>-179.902379</td>\n",
       "      <td>656.535162</td>\n",
       "      <td>656.535162</td>\n",
       "      <td>656.535162</td>\n",
       "      <td>0.0</td>\n",
       "      <td>0.0</td>\n",
       "      <td>0.0</td>\n",
       "      <td>2004.816150</td>\n",
       "    </tr>\n",
       "  </tbody>\n",
       "</table>\n",
       "</div>"
      ],
      "text/plain": [
       "          ds        trend   yhat_lower   yhat_upper  trend_lower  trend_upper  \\\n",
       "0 2010-01-31  1528.394841  1894.705751  3030.178852  1528.394841  1528.394841   \n",
       "1 2010-02-01  1528.341973  1493.934274  2615.114108  1528.341973  1528.341973   \n",
       "2 2010-02-02  1528.289104  1597.426049  2734.282315  1528.289104  1528.289104   \n",
       "3 2010-02-03  1528.236236  1642.035240  2746.777608  1528.236236  1528.236236   \n",
       "4 2010-02-04  1528.183367  1474.801197  2580.967397  1528.183367  1528.183367   \n",
       "\n",
       "   additive_terms  additive_terms_lower  additive_terms_upper      weekly  \\\n",
       "0      911.521718            911.521718            911.521718  217.316889   \n",
       "1      529.856456            529.856456            529.856456 -161.644515   \n",
       "2      662.486895            662.486895            662.486895  -21.921704   \n",
       "3      657.367287            657.367287            657.367287  -15.406064   \n",
       "4      476.632783            476.632783            476.632783 -179.902379   \n",
       "\n",
       "   weekly_lower  weekly_upper      yearly  yearly_lower  yearly_upper  \\\n",
       "0    217.316889    217.316889  694.204829    694.204829    694.204829   \n",
       "1   -161.644515   -161.644515  691.500971    691.500971    691.500971   \n",
       "2    -21.921704    -21.921704  684.408599    684.408599    684.408599   \n",
       "3    -15.406064    -15.406064  672.773351    672.773351    672.773351   \n",
       "4   -179.902379   -179.902379  656.535162    656.535162    656.535162   \n",
       "\n",
       "   multiplicative_terms  multiplicative_terms_lower  \\\n",
       "0                   0.0                         0.0   \n",
       "1                   0.0                         0.0   \n",
       "2                   0.0                         0.0   \n",
       "3                   0.0                         0.0   \n",
       "4                   0.0                         0.0   \n",
       "\n",
       "   multiplicative_terms_upper         yhat  \n",
       "0                         0.0  2439.916559  \n",
       "1                         0.0  2058.198428  \n",
       "2                         0.0  2190.775999  \n",
       "3                         0.0  2185.603523  \n",
       "4                         0.0  2004.816150  "
      ]
     },
     "execution_count": 120,
     "metadata": {},
     "output_type": "execute_result"
    }
   ],
   "source": [
    "from prophet import Prophet\n",
    "\n",
    "train_set = train_set.rename(columns= {'Date' : 'ds', 'Global_active_power' : 'y'})\n",
    "test_set = test_set.rename(columns= {'Date' : 'ds', 'Global_active_power' : 'y'})\n",
    "\n",
    "model = Prophet()\n",
    "model.fit(train_set[['ds', 'y']])\n",
    "forecast = model.predict(test_set[['ds', 'y']])\n",
    "forecast.head()"
   ]
  },
  {
   "cell_type": "code",
   "execution_count": 118,
   "id": "df3cbb05-c50e-48ae-b54d-fac7dfb01019",
   "metadata": {},
   "outputs": [],
   "source": [
    "# import the necessary packages\n",
    "from sklearn.metrics import mean_absolute_percentage_error\n",
    "from sklearn.metrics import mean_squared_error"
   ]
  },
  {
   "cell_type": "code",
   "execution_count": 129,
   "id": "86df29d3-4d9e-4583-9193-dcc181c9ecd3",
   "metadata": {},
   "outputs": [
    {
     "data": {
      "text/plain": [
       "29.67714684745038"
      ]
     },
     "execution_count": 129,
     "metadata": {},
     "output_type": "execute_result"
    }
   ],
   "source": [
    "# RMSE\n",
    "np.sqrt(mean_squared_error(test_set['y'], forecast['yhat']))"
   ]
  },
  {
   "cell_type": "code",
   "execution_count": null,
   "id": "0476ca07-ea5a-4047-991b-ecb7e3f624c8",
   "metadata": {},
   "outputs": [],
   "source": [
    "# MAPE\n",
    "mean_absolute_percentage_error(test_set['y'], forecast['yhat']))"
   ]
  },
  {
   "cell_type": "code",
   "execution_count": 72,
   "id": "2780ff92-b13c-4397-bf46-1790f298fa1f",
   "metadata": {},
   "outputs": [
    {
     "data": {
      "text/html": [
       "<div>\n",
       "<style scoped>\n",
       "    .dataframe tbody tr th:only-of-type {\n",
       "        vertical-align: middle;\n",
       "    }\n",
       "\n",
       "    .dataframe tbody tr th {\n",
       "        vertical-align: top;\n",
       "    }\n",
       "\n",
       "    .dataframe thead th {\n",
       "        text-align: right;\n",
       "    }\n",
       "</style>\n",
       "<table border=\"1\" class=\"dataframe\">\n",
       "  <thead>\n",
       "    <tr style=\"text-align: right;\">\n",
       "      <th></th>\n",
       "      <th>ds</th>\n",
       "      <th>yhat</th>\n",
       "      <th>yhat_lower</th>\n",
       "      <th>yhat_upper</th>\n",
       "      <th>trend</th>\n",
       "      <th>trend_lower</th>\n",
       "      <th>trend_upper</th>\n",
       "    </tr>\n",
       "  </thead>\n",
       "  <tbody>\n",
       "    <tr>\n",
       "      <th>0</th>\n",
       "      <td>2010-01-31</td>\n",
       "      <td>2439.916559</td>\n",
       "      <td>1863.517811</td>\n",
       "      <td>3003.705733</td>\n",
       "      <td>1528.394841</td>\n",
       "      <td>1528.394841</td>\n",
       "      <td>1528.394841</td>\n",
       "    </tr>\n",
       "    <tr>\n",
       "      <th>1</th>\n",
       "      <td>2010-02-01</td>\n",
       "      <td>2058.198428</td>\n",
       "      <td>1482.858729</td>\n",
       "      <td>2581.302610</td>\n",
       "      <td>1528.341973</td>\n",
       "      <td>1528.341973</td>\n",
       "      <td>1528.341973</td>\n",
       "    </tr>\n",
       "    <tr>\n",
       "      <th>2</th>\n",
       "      <td>2010-02-02</td>\n",
       "      <td>2190.775999</td>\n",
       "      <td>1641.685623</td>\n",
       "      <td>2717.258706</td>\n",
       "      <td>1528.289104</td>\n",
       "      <td>1528.289104</td>\n",
       "      <td>1528.289104</td>\n",
       "    </tr>\n",
       "    <tr>\n",
       "      <th>3</th>\n",
       "      <td>2010-02-03</td>\n",
       "      <td>2185.603523</td>\n",
       "      <td>1630.498116</td>\n",
       "      <td>2720.008126</td>\n",
       "      <td>1528.236236</td>\n",
       "      <td>1528.236236</td>\n",
       "      <td>1528.236236</td>\n",
       "    </tr>\n",
       "    <tr>\n",
       "      <th>4</th>\n",
       "      <td>2010-02-04</td>\n",
       "      <td>2004.816150</td>\n",
       "      <td>1468.225347</td>\n",
       "      <td>2558.355240</td>\n",
       "      <td>1528.183367</td>\n",
       "      <td>1528.183367</td>\n",
       "      <td>1528.183367</td>\n",
       "    </tr>\n",
       "    <tr>\n",
       "      <th>...</th>\n",
       "      <td>...</td>\n",
       "      <td>...</td>\n",
       "      <td>...</td>\n",
       "      <td>...</td>\n",
       "      <td>...</td>\n",
       "      <td>...</td>\n",
       "      <td>...</td>\n",
       "    </tr>\n",
       "    <tr>\n",
       "      <th>295</th>\n",
       "      <td>2010-11-22</td>\n",
       "      <td>1899.231277</td>\n",
       "      <td>1345.710825</td>\n",
       "      <td>2431.540150</td>\n",
       "      <td>1512.798618</td>\n",
       "      <td>1508.687392</td>\n",
       "      <td>1516.802454</td>\n",
       "    </tr>\n",
       "    <tr>\n",
       "      <th>296</th>\n",
       "      <td>2010-11-23</td>\n",
       "      <td>2044.656372</td>\n",
       "      <td>1493.769173</td>\n",
       "      <td>2612.529956</td>\n",
       "      <td>1512.745750</td>\n",
       "      <td>1508.608101</td>\n",
       "      <td>1516.765718</td>\n",
       "    </tr>\n",
       "    <tr>\n",
       "      <th>297</th>\n",
       "      <td>2010-11-24</td>\n",
       "      <td>2053.233766</td>\n",
       "      <td>1533.453389</td>\n",
       "      <td>2637.975357</td>\n",
       "      <td>1512.692881</td>\n",
       "      <td>1508.550583</td>\n",
       "      <td>1516.728982</td>\n",
       "    </tr>\n",
       "    <tr>\n",
       "      <th>298</th>\n",
       "      <td>2010-11-25</td>\n",
       "      <td>1887.403218</td>\n",
       "      <td>1316.628084</td>\n",
       "      <td>2434.971336</td>\n",
       "      <td>1512.640013</td>\n",
       "      <td>1508.475712</td>\n",
       "      <td>1516.692247</td>\n",
       "    </tr>\n",
       "    <tr>\n",
       "      <th>299</th>\n",
       "      <td>2010-11-26</td>\n",
       "      <td>1990.563003</td>\n",
       "      <td>1439.658715</td>\n",
       "      <td>2596.597500</td>\n",
       "      <td>1512.587144</td>\n",
       "      <td>1508.395391</td>\n",
       "      <td>1516.662518</td>\n",
       "    </tr>\n",
       "  </tbody>\n",
       "</table>\n",
       "<p>300 rows × 7 columns</p>\n",
       "</div>"
      ],
      "text/plain": [
       "            ds         yhat   yhat_lower   yhat_upper        trend  \\\n",
       "0   2010-01-31  2439.916559  1863.517811  3003.705733  1528.394841   \n",
       "1   2010-02-01  2058.198428  1482.858729  2581.302610  1528.341973   \n",
       "2   2010-02-02  2190.775999  1641.685623  2717.258706  1528.289104   \n",
       "3   2010-02-03  2185.603523  1630.498116  2720.008126  1528.236236   \n",
       "4   2010-02-04  2004.816150  1468.225347  2558.355240  1528.183367   \n",
       "..         ...          ...          ...          ...          ...   \n",
       "295 2010-11-22  1899.231277  1345.710825  2431.540150  1512.798618   \n",
       "296 2010-11-23  2044.656372  1493.769173  2612.529956  1512.745750   \n",
       "297 2010-11-24  2053.233766  1533.453389  2637.975357  1512.692881   \n",
       "298 2010-11-25  1887.403218  1316.628084  2434.971336  1512.640013   \n",
       "299 2010-11-26  1990.563003  1439.658715  2596.597500  1512.587144   \n",
       "\n",
       "     trend_lower  trend_upper  \n",
       "0    1528.394841  1528.394841  \n",
       "1    1528.341973  1528.341973  \n",
       "2    1528.289104  1528.289104  \n",
       "3    1528.236236  1528.236236  \n",
       "4    1528.183367  1528.183367  \n",
       "..           ...          ...  \n",
       "295  1508.687392  1516.802454  \n",
       "296  1508.608101  1516.765718  \n",
       "297  1508.550583  1516.728982  \n",
       "298  1508.475712  1516.692247  \n",
       "299  1508.395391  1516.662518  \n",
       "\n",
       "[300 rows x 7 columns]"
      ]
     },
     "execution_count": 72,
     "metadata": {},
     "output_type": "execute_result"
    }
   ],
   "source": [
    "forecast[['ds', 'yhat', 'yhat_lower', 'yhat_upper', 'trend', 'trend_lower', 'trend_upper']]"
   ]
  },
  {
   "cell_type": "code",
   "execution_count": 73,
   "id": "2cc55100-de85-4b9a-a09b-c91344fdcf24",
   "metadata": {},
   "outputs": [
    {
     "name": "stderr",
     "output_type": "stream",
     "text": [
      "C:\\Users\\PC\\AppData\\Local\\Programs\\Python\\Python310\\lib\\site-packages\\prophet\\plot.py:72: FutureWarning: The behavior of DatetimeProperties.to_pydatetime is deprecated, in a future version this will return a Series containing python datetime objects instead of an ndarray. To retain the old behavior, call `np.array` on the result\n",
      "  fcst_t = fcst['ds'].dt.to_pydatetime()\n",
      "C:\\Users\\PC\\AppData\\Local\\Programs\\Python\\Python310\\lib\\site-packages\\prophet\\plot.py:73: FutureWarning: The behavior of DatetimeProperties.to_pydatetime is deprecated, in a future version this will return a Series containing python datetime objects instead of an ndarray. To retain the old behavior, call `np.array` on the result\n",
      "  ax.plot(m.history['ds'].dt.to_pydatetime(), m.history['y'], 'k.',\n"
     ]
    },
    {
     "data": {
      "image/png": "[encoded data removed]",
      "text/plain": [
       "<Figure size 1000x600 with 1 Axes>"
      ]
     },
     "metadata": {},
     "output_type": "display_data"
    }
   ],
   "source": [
    "model.plot(forecast)\n",
    "plt.show()"
   ]
  },
  {
   "cell_type": "code",
   "execution_count": 74,
   "id": "ee78391c-8ea5-46a7-95fe-bbb93f5a8137",
   "metadata": {},
   "outputs": [
    {
     "data": {
      "image/png": "[encoded data removed]",
      "text/plain": [
       "<Figure size 640x480 with 1 Axes>"
      ]
     },
     "metadata": {},
     "output_type": "display_data"
    }
   ],
   "source": [
    "forecast.plot('ds', 'trend')\n",
    "plt.show()"
   ]
  },
  {
   "cell_type": "code",
   "execution_count": 75,
   "id": "1104fc31-3fea-41e1-ac10-57703d42f5ff",
   "metadata": {},
   "outputs": [
    {
     "data": {
      "image/png": "[encoded data removed]",
      "text/plain": [
       "<Figure size 640x480 with 1 Axes>"
      ]
     },
     "metadata": {},
     "output_type": "display_data"
    }
   ],
   "source": [
    "forecast.plot('ds', 'yearly')\n",
    "plt.show()"
   ]
  },
  {
   "cell_type": "code",
   "execution_count": 76,
   "id": "b53e271d-cee5-4548-bd36-bb6e4db5f9f7",
   "metadata": {},
   "outputs": [],
   "source": [
    "old_columns = ['Global_reactive_power', 'Voltage','Global_intensity', 'Sub_metering_1','Sub_metering_2','Sub_metering_3']\n",
    "new_columns = ['add1', 'add2', 'add3', 'add4', 'add5', 'add6']\n",
    "\n",
    "train_set = train_set.rename(columns= dict(zip(old_columns, new_columns)))\n",
    "test_set = test_set.rename(columns= dict(zip(old_columns, new_columns)))"
   ]
  },
  {
   "cell_type": "code",
   "execution_count": 124,
   "id": "e12ed623-cc24-4889-a9bb-6bf1e8bf9b98",
   "metadata": {},
   "outputs": [],
   "source": [
    "model = Prophet()"
   ]
  },
  {
   "cell_type": "code",
   "execution_count": 125,
   "id": "12750c94-578a-41bf-99a3-4878539156f5",
   "metadata": {},
   "outputs": [
    {
     "data": {
      "text/plain": [
       "<prophet.forecaster.Prophet at 0x1b1eb40a830>"
      ]
     },
     "execution_count": 125,
     "metadata": {},
     "output_type": "execute_result"
    }
   ],
   "source": [
    "model.add_regressor('add1')\n",
    "model.add_regressor('add2')\n",
    "model.add_regressor('add3')\n",
    "model.add_regressor('add4')\n",
    "model.add_regressor('add5')\n",
    "model.add_regressor('add6')"
   ]
  },
  {
   "cell_type": "code",
   "execution_count": 126,
   "id": "a8d3db5c-3dbe-42ed-9365-a61be3a3e5c4",
   "metadata": {},
   "outputs": [
    {
     "name": "stderr",
     "output_type": "stream",
     "text": [
      "18:43:31 - cmdstanpy - INFO - Chain [1] start processing\n",
      "18:43:31 - cmdstanpy - INFO - Chain [1] done processing\n"
     ]
    }
   ],
   "source": [
    "model.fit(train_set[['ds', 'y', 'add1', 'add2', 'add3', 'add4', 'add5', 'add6']])\n",
    "forecast = model.predict(test_set[['ds', 'y', 'add1', 'add2', 'add3', 'add4', 'add5', 'add6']])"
   ]
  },
  {
   "cell_type": "code",
   "execution_count": 106,
   "id": "a88ce249-1b4f-4bc8-b08a-280b1265db25",
   "metadata": {},
   "outputs": [
    {
     "data": {
      "text/html": [
       "<div>\n",
       "<style scoped>\n",
       "    .dataframe tbody tr th:only-of-type {\n",
       "        vertical-align: middle;\n",
       "    }\n",
       "\n",
       "    .dataframe tbody tr th {\n",
       "        vertical-align: top;\n",
       "    }\n",
       "\n",
       "    .dataframe thead th {\n",
       "        text-align: right;\n",
       "    }\n",
       "</style>\n",
       "<table border=\"1\" class=\"dataframe\">\n",
       "  <thead>\n",
       "    <tr style=\"text-align: right;\">\n",
       "      <th></th>\n",
       "      <th>ds</th>\n",
       "      <th>trend</th>\n",
       "      <th>yhat_lower</th>\n",
       "      <th>yhat_upper</th>\n",
       "      <th>trend_lower</th>\n",
       "      <th>trend_upper</th>\n",
       "      <th>add1</th>\n",
       "      <th>add1_lower</th>\n",
       "      <th>add1_upper</th>\n",
       "      <th>add2</th>\n",
       "      <th>...</th>\n",
       "      <th>weekly</th>\n",
       "      <th>weekly_lower</th>\n",
       "      <th>weekly_upper</th>\n",
       "      <th>yearly</th>\n",
       "      <th>yearly_lower</th>\n",
       "      <th>yearly_upper</th>\n",
       "      <th>multiplicative_terms</th>\n",
       "      <th>multiplicative_terms_lower</th>\n",
       "      <th>multiplicative_terms_upper</th>\n",
       "      <th>yhat</th>\n",
       "    </tr>\n",
       "  </thead>\n",
       "  <tbody>\n",
       "    <tr>\n",
       "      <th>0</th>\n",
       "      <td>2010-01-31</td>\n",
       "      <td>1617.707231</td>\n",
       "      <td>1790.976950</td>\n",
       "      <td>1824.821622</td>\n",
       "      <td>1617.707231</td>\n",
       "      <td>1617.707231</td>\n",
       "      <td>0.812432</td>\n",
       "      <td>0.812432</td>\n",
       "      <td>0.812432</td>\n",
       "      <td>1.154409</td>\n",
       "      <td>...</td>\n",
       "      <td>0.108579</td>\n",
       "      <td>0.108579</td>\n",
       "      <td>0.108579</td>\n",
       "      <td>9.890354</td>\n",
       "      <td>9.890354</td>\n",
       "      <td>9.890354</td>\n",
       "      <td>0.0</td>\n",
       "      <td>0.0</td>\n",
       "      <td>0.0</td>\n",
       "      <td>1808.482527</td>\n",
       "    </tr>\n",
       "    <tr>\n",
       "      <th>1</th>\n",
       "      <td>2010-02-01</td>\n",
       "      <td>1617.783569</td>\n",
       "      <td>1687.648032</td>\n",
       "      <td>1720.038837</td>\n",
       "      <td>1617.783569</td>\n",
       "      <td>1617.783569</td>\n",
       "      <td>9.352179</td>\n",
       "      <td>9.352179</td>\n",
       "      <td>9.352179</td>\n",
       "      <td>1.247357</td>\n",
       "      <td>...</td>\n",
       "      <td>-0.299609</td>\n",
       "      <td>-0.299609</td>\n",
       "      <td>-0.299609</td>\n",
       "      <td>10.416971</td>\n",
       "      <td>10.416971</td>\n",
       "      <td>10.416971</td>\n",
       "      <td>0.0</td>\n",
       "      <td>0.0</td>\n",
       "      <td>0.0</td>\n",
       "      <td>1703.354983</td>\n",
       "    </tr>\n",
       "    <tr>\n",
       "      <th>2</th>\n",
       "      <td>2010-02-02</td>\n",
       "      <td>1617.859907</td>\n",
       "      <td>2139.349507</td>\n",
       "      <td>2172.962254</td>\n",
       "      <td>1617.859907</td>\n",
       "      <td>1617.859907</td>\n",
       "      <td>8.185575</td>\n",
       "      <td>8.185575</td>\n",
       "      <td>8.185575</td>\n",
       "      <td>1.126082</td>\n",
       "      <td>...</td>\n",
       "      <td>-1.425090</td>\n",
       "      <td>-1.425090</td>\n",
       "      <td>-1.425090</td>\n",
       "      <td>10.966310</td>\n",
       "      <td>10.966310</td>\n",
       "      <td>10.966310</td>\n",
       "      <td>0.0</td>\n",
       "      <td>0.0</td>\n",
       "      <td>0.0</td>\n",
       "      <td>2156.092995</td>\n",
       "    </tr>\n",
       "    <tr>\n",
       "      <th>3</th>\n",
       "      <td>2010-02-03</td>\n",
       "      <td>1617.936245</td>\n",
       "      <td>2886.087101</td>\n",
       "      <td>2919.963668</td>\n",
       "      <td>1617.936245</td>\n",
       "      <td>1617.936245</td>\n",
       "      <td>-1.412595</td>\n",
       "      <td>-1.412595</td>\n",
       "      <td>-1.412595</td>\n",
       "      <td>0.742795</td>\n",
       "      <td>...</td>\n",
       "      <td>1.150660</td>\n",
       "      <td>1.150660</td>\n",
       "      <td>1.150660</td>\n",
       "      <td>11.530541</td>\n",
       "      <td>11.530541</td>\n",
       "      <td>11.530541</td>\n",
       "      <td>0.0</td>\n",
       "      <td>0.0</td>\n",
       "      <td>0.0</td>\n",
       "      <td>2903.439113</td>\n",
       "    </tr>\n",
       "    <tr>\n",
       "      <th>4</th>\n",
       "      <td>2010-02-04</td>\n",
       "      <td>1618.012583</td>\n",
       "      <td>2310.786237</td>\n",
       "      <td>2344.000446</td>\n",
       "      <td>1618.012583</td>\n",
       "      <td>1618.012583</td>\n",
       "      <td>6.233925</td>\n",
       "      <td>6.233925</td>\n",
       "      <td>6.233925</td>\n",
       "      <td>0.626242</td>\n",
       "      <td>...</td>\n",
       "      <td>-0.338104</td>\n",
       "      <td>-0.338104</td>\n",
       "      <td>-0.338104</td>\n",
       "      <td>12.101900</td>\n",
       "      <td>12.101900</td>\n",
       "      <td>12.101900</td>\n",
       "      <td>0.0</td>\n",
       "      <td>0.0</td>\n",
       "      <td>0.0</td>\n",
       "      <td>2327.636572</td>\n",
       "    </tr>\n",
       "  </tbody>\n",
       "</table>\n",
       "<p>5 rows × 40 columns</p>\n",
       "</div>"
      ],
      "text/plain": [
       "          ds        trend   yhat_lower   yhat_upper  trend_lower  trend_upper  \\\n",
       "0 2010-01-31  1617.707231  1790.976950  1824.821622  1617.707231  1617.707231   \n",
       "1 2010-02-01  1617.783569  1687.648032  1720.038837  1617.783569  1617.783569   \n",
       "2 2010-02-02  1617.859907  2139.349507  2172.962254  1617.859907  1617.859907   \n",
       "3 2010-02-03  1617.936245  2886.087101  2919.963668  1617.936245  1617.936245   \n",
       "4 2010-02-04  1618.012583  2310.786237  2344.000446  1618.012583  1618.012583   \n",
       "\n",
       "       add1  add1_lower  add1_upper      add2  ...    weekly  weekly_lower  \\\n",
       "0  0.812432    0.812432    0.812432  1.154409  ...  0.108579      0.108579   \n",
       "1  9.352179    9.352179    9.352179  1.247357  ... -0.299609     -0.299609   \n",
       "2  8.185575    8.185575    8.185575  1.126082  ... -1.425090     -1.425090   \n",
       "3 -1.412595   -1.412595   -1.412595  0.742795  ...  1.150660      1.150660   \n",
       "4  6.233925    6.233925    6.233925  0.626242  ... -0.338104     -0.338104   \n",
       "\n",
       "   weekly_upper     yearly  yearly_lower  yearly_upper  multiplicative_terms  \\\n",
       "0      0.108579   9.890354      9.890354      9.890354                   0.0   \n",
       "1     -0.299609  10.416971     10.416971     10.416971                   0.0   \n",
       "2     -1.425090  10.966310     10.966310     10.966310                   0.0   \n",
       "3      1.150660  11.530541     11.530541     11.530541                   0.0   \n",
       "4     -0.338104  12.101900     12.101900     12.101900                   0.0   \n",
       "\n",
       "   multiplicative_terms_lower  multiplicative_terms_upper         yhat  \n",
       "0                         0.0                         0.0  1808.482527  \n",
       "1                         0.0                         0.0  1703.354983  \n",
       "2                         0.0                         0.0  2156.092995  \n",
       "3                         0.0                         0.0  2903.439113  \n",
       "4                         0.0                         0.0  2327.636572  \n",
       "\n",
       "[5 rows x 40 columns]"
      ]
     },
     "execution_count": 106,
     "metadata": {},
     "output_type": "execute_result"
    }
   ],
   "source": [
    "forecast.head()"
   ]
  },
  {
   "cell_type": "code",
   "execution_count": 107,
   "id": "c3726f61-84b2-44f6-889f-c3825e1db22e",
   "metadata": {},
   "outputs": [
    {
     "data": {
      "text/html": [
       "<div>\n",
       "<style scoped>\n",
       "    .dataframe tbody tr th:only-of-type {\n",
       "        vertical-align: middle;\n",
       "    }\n",
       "\n",
       "    .dataframe tbody tr th {\n",
       "        vertical-align: top;\n",
       "    }\n",
       "\n",
       "    .dataframe thead th {\n",
       "        text-align: right;\n",
       "    }\n",
       "</style>\n",
       "<table border=\"1\" class=\"dataframe\">\n",
       "  <thead>\n",
       "    <tr style=\"text-align: right;\">\n",
       "      <th></th>\n",
       "      <th>ds</th>\n",
       "      <th>yhat</th>\n",
       "      <th>yhat_lower</th>\n",
       "      <th>yhat_upper</th>\n",
       "      <th>trend</th>\n",
       "      <th>trend_lower</th>\n",
       "      <th>trend_upper</th>\n",
       "    </tr>\n",
       "  </thead>\n",
       "  <tbody>\n",
       "    <tr>\n",
       "      <th>0</th>\n",
       "      <td>2010-01-31</td>\n",
       "      <td>1808.482527</td>\n",
       "      <td>1790.976950</td>\n",
       "      <td>1824.821622</td>\n",
       "      <td>1617.707231</td>\n",
       "      <td>1617.707231</td>\n",
       "      <td>1617.707231</td>\n",
       "    </tr>\n",
       "    <tr>\n",
       "      <th>1</th>\n",
       "      <td>2010-02-01</td>\n",
       "      <td>1703.354983</td>\n",
       "      <td>1687.648032</td>\n",
       "      <td>1720.038837</td>\n",
       "      <td>1617.783569</td>\n",
       "      <td>1617.783569</td>\n",
       "      <td>1617.783569</td>\n",
       "    </tr>\n",
       "    <tr>\n",
       "      <th>2</th>\n",
       "      <td>2010-02-02</td>\n",
       "      <td>2156.092995</td>\n",
       "      <td>2139.349507</td>\n",
       "      <td>2172.962254</td>\n",
       "      <td>1617.859907</td>\n",
       "      <td>1617.859907</td>\n",
       "      <td>1617.859907</td>\n",
       "    </tr>\n",
       "    <tr>\n",
       "      <th>3</th>\n",
       "      <td>2010-02-03</td>\n",
       "      <td>2903.439113</td>\n",
       "      <td>2886.087101</td>\n",
       "      <td>2919.963668</td>\n",
       "      <td>1617.936245</td>\n",
       "      <td>1617.936245</td>\n",
       "      <td>1617.936245</td>\n",
       "    </tr>\n",
       "    <tr>\n",
       "      <th>4</th>\n",
       "      <td>2010-02-04</td>\n",
       "      <td>2327.636572</td>\n",
       "      <td>2310.786237</td>\n",
       "      <td>2344.000446</td>\n",
       "      <td>1618.012583</td>\n",
       "      <td>1618.012583</td>\n",
       "      <td>1618.012583</td>\n",
       "    </tr>\n",
       "    <tr>\n",
       "      <th>...</th>\n",
       "      <td>...</td>\n",
       "      <td>...</td>\n",
       "      <td>...</td>\n",
       "      <td>...</td>\n",
       "      <td>...</td>\n",
       "      <td>...</td>\n",
       "      <td>...</td>\n",
       "    </tr>\n",
       "    <tr>\n",
       "      <th>295</th>\n",
       "      <td>2010-11-22</td>\n",
       "      <td>2098.618972</td>\n",
       "      <td>1898.990019</td>\n",
       "      <td>2298.264872</td>\n",
       "      <td>1640.226916</td>\n",
       "      <td>1445.436140</td>\n",
       "      <td>1837.778242</td>\n",
       "    </tr>\n",
       "    <tr>\n",
       "      <th>296</th>\n",
       "      <td>2010-11-23</td>\n",
       "      <td>1640.616115</td>\n",
       "      <td>1442.739691</td>\n",
       "      <td>1836.702477</td>\n",
       "      <td>1640.303254</td>\n",
       "      <td>1444.124700</td>\n",
       "      <td>1839.156861</td>\n",
       "    </tr>\n",
       "    <tr>\n",
       "      <th>297</th>\n",
       "      <td>2010-11-24</td>\n",
       "      <td>1847.753341</td>\n",
       "      <td>1645.153990</td>\n",
       "      <td>2048.485702</td>\n",
       "      <td>1640.379592</td>\n",
       "      <td>1442.622845</td>\n",
       "      <td>1840.492666</td>\n",
       "    </tr>\n",
       "    <tr>\n",
       "      <th>298</th>\n",
       "      <td>2010-11-25</td>\n",
       "      <td>1470.960574</td>\n",
       "      <td>1263.794697</td>\n",
       "      <td>1673.677992</td>\n",
       "      <td>1640.455930</td>\n",
       "      <td>1441.130181</td>\n",
       "      <td>1841.775020</td>\n",
       "    </tr>\n",
       "    <tr>\n",
       "      <th>299</th>\n",
       "      <td>2010-11-26</td>\n",
       "      <td>1525.955140</td>\n",
       "      <td>1322.879801</td>\n",
       "      <td>1730.085033</td>\n",
       "      <td>1640.532268</td>\n",
       "      <td>1439.641756</td>\n",
       "      <td>1842.752442</td>\n",
       "    </tr>\n",
       "  </tbody>\n",
       "</table>\n",
       "<p>300 rows × 7 columns</p>\n",
       "</div>"
      ],
      "text/plain": [
       "            ds         yhat   yhat_lower   yhat_upper        trend  \\\n",
       "0   2010-01-31  1808.482527  1790.976950  1824.821622  1617.707231   \n",
       "1   2010-02-01  1703.354983  1687.648032  1720.038837  1617.783569   \n",
       "2   2010-02-02  2156.092995  2139.349507  2172.962254  1617.859907   \n",
       "3   2010-02-03  2903.439113  2886.087101  2919.963668  1617.936245   \n",
       "4   2010-02-04  2327.636572  2310.786237  2344.000446  1618.012583   \n",
       "..         ...          ...          ...          ...          ...   \n",
       "295 2010-11-22  2098.618972  1898.990019  2298.264872  1640.226916   \n",
       "296 2010-11-23  1640.616115  1442.739691  1836.702477  1640.303254   \n",
       "297 2010-11-24  1847.753341  1645.153990  2048.485702  1640.379592   \n",
       "298 2010-11-25  1470.960574  1263.794697  1673.677992  1640.455930   \n",
       "299 2010-11-26  1525.955140  1322.879801  1730.085033  1640.532268   \n",
       "\n",
       "     trend_lower  trend_upper  \n",
       "0    1617.707231  1617.707231  \n",
       "1    1617.783569  1617.783569  \n",
       "2    1617.859907  1617.859907  \n",
       "3    1617.936245  1617.936245  \n",
       "4    1618.012583  1618.012583  \n",
       "..           ...          ...  \n",
       "295  1445.436140  1837.778242  \n",
       "296  1444.124700  1839.156861  \n",
       "297  1442.622845  1840.492666  \n",
       "298  1441.130181  1841.775020  \n",
       "299  1439.641756  1842.752442  \n",
       "\n",
       "[300 rows x 7 columns]"
      ]
     },
     "execution_count": 107,
     "metadata": {},
     "output_type": "execute_result"
    }
   ],
   "source": [
    "forecast[['ds', 'yhat', 'yhat_lower', 'yhat_upper', 'trend', 'trend_lower', 'trend_upper']]"
   ]
  },
  {
   "cell_type": "code",
   "execution_count": 108,
   "id": "63ddb212-fb04-4122-9f21-16beb9068ba8",
   "metadata": {},
   "outputs": [
    {
     "name": "stderr",
     "output_type": "stream",
     "text": [
      "C:\\Users\\PC\\AppData\\Local\\Programs\\Python\\Python310\\lib\\site-packages\\prophet\\plot.py:72: FutureWarning: The behavior of DatetimeProperties.to_pydatetime is deprecated, in a future version this will return a Series containing python datetime objects instead of an ndarray. To retain the old behavior, call `np.array` on the result\n",
      "  fcst_t = fcst['ds'].dt.to_pydatetime()\n",
      "C:\\Users\\PC\\AppData\\Local\\Programs\\Python\\Python310\\lib\\site-packages\\prophet\\plot.py:73: FutureWarning: The behavior of DatetimeProperties.to_pydatetime is deprecated, in a future version this will return a Series containing python datetime objects instead of an ndarray. To retain the old behavior, call `np.array` on the result\n",
      "  ax.plot(m.history['ds'].dt.to_pydatetime(), m.history['y'], 'k.',\n"
     ]
    },
    {
     "data": {
      "image/png": "[encoded data removed]",
      "text/plain": [
       "<Figure size 1000x600 with 1 Axes>"
      ]
     },
     "metadata": {},
     "output_type": "display_data"
    }
   ],
   "source": [
    "model.plot(forecast)\n",
    "plt.show()"
   ]
  },
  {
   "cell_type": "code",
   "execution_count": 109,
   "id": "a9759356-8c74-49ca-8425-b4b6b075dd78",
   "metadata": {},
   "outputs": [
    {
     "data": {
      "image/png": "[encoded data removed]",
      "text/plain": [
       "<Figure size 640x480 with 1 Axes>"
      ]
     },
     "metadata": {},
     "output_type": "display_data"
    }
   ],
   "source": [
    "forecast.plot('ds', 'trend')\n",
    "plt.show()"
   ]
  },
  {
   "cell_type": "code",
   "execution_count": 110,
   "id": "7b665de9-c864-4a35-a956-2b9406fb6a2a",
   "metadata": {},
   "outputs": [
    {
     "data": {
      "image/png": "[encoded data removed]",
      "text/plain": [
       "<Figure size 640x480 with 1 Axes>"
      ]
     },
     "metadata": {},
     "output_type": "display_data"
    }
   ],
   "source": [
    "forecast.plot('ds', 'yearly')\n",
    "plt.show()"
   ]
  },
  {
   "cell_type": "code",
   "execution_count": null,
   "id": "574a9b4f-2256-4626-82a5-70a54322930e",
   "metadata": {},
   "outputs": [],
   "source": [
    "# RMSE\n",
    "np.sqrt(mean_squared_error(test_set['y'], forecast['yhat']))"
   ]
  },
  {
   "cell_type": "code",
   "execution_count": null,
   "id": "aaaf4bf1-9d4b-49f8-a891-01cb33c33a0a",
   "metadata": {},
   "outputs": [],
   "source": [
    "# MAPE\n",
    "mean_absolute_percentage_error(test_set['y'], forecast['yhat']))"
   ]
  }
 ],
 "metadata": {
  "kernelspec": {
   "display_name": "Python 3 (ipykernel)",
   "language": "python",
   "name": "python3"
  },
  "language_info": {
   "codemirror_mode": {
    "name": "ipython",
    "version": 3
   },
   "file_extension": ".py",
   "mimetype": "text/x-python",
   "name": "python",
   "nbconvert_exporter": "python",
   "pygments_lexer": "ipython3",
   "version": "3.10.0"
  }
 },
 "nbformat": 4,
 "nbformat_minor": 5
}
